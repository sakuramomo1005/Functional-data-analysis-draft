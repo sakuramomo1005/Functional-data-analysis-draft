{
 "cells": [
  {
   "cell_type": "code",
   "execution_count": 2,
   "metadata": {},
   "outputs": [],
   "source": [
    "setwd('/Users/yaolanqiu/Desktop/NYU/rotation/Rotation2/Week3/from dr.tarpey')\n",
    "source(\"cvxcluster-0513.R\")"
   ]
  },
  {
   "cell_type": "code",
   "execution_count": 12,
   "metadata": {},
   "outputs": [],
   "source": [
    "library('lme4')"
   ]
  },
  {
   "cell_type": "markdown",
   "metadata": {},
   "source": [
    "\n",
    "<span style=\"color:blue\">I was confused about the dimensions of the following equation. I just wanted to add the subscript i in the equation and specify the euqation for each subject.</span>"
   ]
  },
  {
   "cell_type": "code",
   "execution_count": 13,
   "metadata": {},
   "outputs": [
    {
     "data": {
      "text/html": [
       "<table>\n",
       "<thead><tr><th scope=col>subj</th><th scope=col>trt</th><th scope=col>y</th><th scope=col>age</th><th scope=col>BaselineCGI</th><th scope=col>t1</th><th scope=col>responder</th></tr></thead>\n",
       "<tbody>\n",
       "\t<tr><td>2497</td><td>0   </td><td>25  </td><td>29  </td><td>4   </td><td>0   </td><td>0   </td></tr>\n",
       "\t<tr><td>2497</td><td>0   </td><td>18  </td><td>29  </td><td>4   </td><td>1   </td><td>0   </td></tr>\n",
       "\t<tr><td>2497</td><td>0   </td><td>11  </td><td>29  </td><td>4   </td><td>2   </td><td>0   </td></tr>\n",
       "\t<tr><td>2497</td><td>0   </td><td> 9  </td><td>29  </td><td>4   </td><td>3   </td><td>0   </td></tr>\n",
       "\t<tr><td>2497</td><td>0   </td><td>19  </td><td>29  </td><td>4   </td><td>4   </td><td>0   </td></tr>\n",
       "\t<tr><td>2497</td><td>0   </td><td>15  </td><td>29  </td><td>4   </td><td>5   </td><td>0   </td></tr>\n",
       "</tbody>\n",
       "</table>\n"
      ],
      "text/latex": [
       "\\begin{tabular}{r|lllllll}\n",
       " subj & trt & y & age & BaselineCGI & t1 & responder\\\\\n",
       "\\hline\n",
       "\t 2497 & 0    & 25   & 29   & 4    & 0    & 0   \\\\\n",
       "\t 2497 & 0    & 18   & 29   & 4    & 1    & 0   \\\\\n",
       "\t 2497 & 0    & 11   & 29   & 4    & 2    & 0   \\\\\n",
       "\t 2497 & 0    &  9   & 29   & 4    & 3    & 0   \\\\\n",
       "\t 2497 & 0    & 19   & 29   & 4    & 4    & 0   \\\\\n",
       "\t 2497 & 0    & 15   & 29   & 4    & 5    & 0   \\\\\n",
       "\\end{tabular}\n"
      ],
      "text/markdown": [
       "\n",
       "subj | trt | y | age | BaselineCGI | t1 | responder | \n",
       "|---|---|---|---|---|---|\n",
       "| 2497 | 0    | 25   | 29   | 4    | 0    | 0    | \n",
       "| 2497 | 0    | 18   | 29   | 4    | 1    | 0    | \n",
       "| 2497 | 0    | 11   | 29   | 4    | 2    | 0    | \n",
       "| 2497 | 0    |  9   | 29   | 4    | 3    | 0    | \n",
       "| 2497 | 0    | 19   | 29   | 4    | 4    | 0    | \n",
       "| 2497 | 0    | 15   | 29   | 4    | 5    | 0    | \n",
       "\n",
       "\n"
      ],
      "text/plain": [
       "  subj trt y  age BaselineCGI t1 responder\n",
       "1 2497 0   25 29  4           0  0        \n",
       "2 2497 0   18 29  4           1  0        \n",
       "3 2497 0   11 29  4           2  0        \n",
       "4 2497 0    9 29  4           3  0        \n",
       "5 2497 0   19 29  4           4  0        \n",
       "6 2497 0   15 29  4           5  0        "
      ]
     },
     "metadata": {},
     "output_type": "display_data"
    }
   ],
   "source": [
    "# read in data\n",
    "dat = read.table(\"hcaf.dat\", header=T)\n",
    "d0 = dat[dat$trt == 0,]\n",
    "d1 = dat[dat$trt == 1,]\n",
    "head(dat)"
   ]
  },
  {
   "cell_type": "code",
   "execution_count": 14,
   "metadata": {},
   "outputs": [
    {
     "data": {
      "text/html": [
       "<table>\n",
       "<thead><tr><th scope=col>subj</th><th scope=col>trt</th><th scope=col>y</th><th scope=col>age</th><th scope=col>BaselineCGI</th><th scope=col>t1</th><th scope=col>responder</th><th scope=col>newcov1</th><th scope=col>newcov2</th></tr></thead>\n",
       "<tbody>\n",
       "\t<tr><td>2497    </td><td>0       </td><td>25      </td><td>29      </td><td>4       </td><td>0       </td><td>0       </td><td>5.115883</td><td>10.0736 </td></tr>\n",
       "\t<tr><td>2497    </td><td>0       </td><td>18      </td><td>29      </td><td>4       </td><td>1       </td><td>0       </td><td>5.115883</td><td>10.0736 </td></tr>\n",
       "\t<tr><td>2497    </td><td>0       </td><td>11      </td><td>29      </td><td>4       </td><td>2       </td><td>0       </td><td>5.115883</td><td>10.0736 </td></tr>\n",
       "\t<tr><td>2497    </td><td>0       </td><td> 9      </td><td>29      </td><td>4       </td><td>3       </td><td>0       </td><td>5.115883</td><td>10.0736 </td></tr>\n",
       "\t<tr><td>2497    </td><td>0       </td><td>19      </td><td>29      </td><td>4       </td><td>4       </td><td>0       </td><td>5.115883</td><td>10.0736 </td></tr>\n",
       "\t<tr><td>2497    </td><td>0       </td><td>15      </td><td>29      </td><td>4       </td><td>5       </td><td>0       </td><td>5.115883</td><td>10.0736 </td></tr>\n",
       "</tbody>\n",
       "</table>\n"
      ],
      "text/latex": [
       "\\begin{tabular}{r|lllllllll}\n",
       " subj & trt & y & age & BaselineCGI & t1 & responder & newcov1 & newcov2\\\\\n",
       "\\hline\n",
       "\t 2497     & 0        & 25       & 29       & 4        & 0        & 0        & 5.115883 & 10.0736 \\\\\n",
       "\t 2497     & 0        & 18       & 29       & 4        & 1        & 0        & 5.115883 & 10.0736 \\\\\n",
       "\t 2497     & 0        & 11       & 29       & 4        & 2        & 0        & 5.115883 & 10.0736 \\\\\n",
       "\t 2497     & 0        &  9       & 29       & 4        & 3        & 0        & 5.115883 & 10.0736 \\\\\n",
       "\t 2497     & 0        & 19       & 29       & 4        & 4        & 0        & 5.115883 & 10.0736 \\\\\n",
       "\t 2497     & 0        & 15       & 29       & 4        & 5        & 0        & 5.115883 & 10.0736 \\\\\n",
       "\\end{tabular}\n"
      ],
      "text/markdown": [
       "\n",
       "subj | trt | y | age | BaselineCGI | t1 | responder | newcov1 | newcov2 | \n",
       "|---|---|---|---|---|---|\n",
       "| 2497     | 0        | 25       | 29       | 4        | 0        | 0        | 5.115883 | 10.0736  | \n",
       "| 2497     | 0        | 18       | 29       | 4        | 1        | 0        | 5.115883 | 10.0736  | \n",
       "| 2497     | 0        | 11       | 29       | 4        | 2        | 0        | 5.115883 | 10.0736  | \n",
       "| 2497     | 0        |  9       | 29       | 4        | 3        | 0        | 5.115883 | 10.0736  | \n",
       "| 2497     | 0        | 19       | 29       | 4        | 4        | 0        | 5.115883 | 10.0736  | \n",
       "| 2497     | 0        | 15       | 29       | 4        | 5        | 0        | 5.115883 | 10.0736  | \n",
       "\n",
       "\n"
      ],
      "text/plain": [
       "  subj trt y  age BaselineCGI t1 responder newcov1  newcov2\n",
       "1 2497 0   25 29  4           0  0         5.115883 10.0736\n",
       "2 2497 0   18 29  4           1  0         5.115883 10.0736\n",
       "3 2497 0   11 29  4           2  0         5.115883 10.0736\n",
       "4 2497 0    9 29  4           3  0         5.115883 10.0736\n",
       "5 2497 0   19 29  4           4  0         5.115883 10.0736\n",
       "6 2497 0   15 29  4           5  0         5.115883 10.0736"
      ]
     },
     "metadata": {},
     "output_type": "display_data"
    }
   ],
   "source": [
    "# create new covariates\n",
    "cov01 = rnorm(length(unique(d0$subj)),5,1)\n",
    "cov02 = rnorm(length(unique(d0$subj)),10,1)\n",
    "newcov0 = data.frame(subj = unique(d0$subj), newcov1 = cov01, newcov2 = cov02)\n",
    "d0 = merge(d0,newcov0, by = 'subj')\n",
    "head(d0)"
   ]
  },
  {
   "cell_type": "code",
   "execution_count": 15,
   "metadata": {},
   "outputs": [
    {
     "data": {
      "text/html": [
       "<table>\n",
       "<thead><tr><th scope=col>subj</th><th scope=col>trt</th><th scope=col>y</th><th scope=col>age</th><th scope=col>BaselineCGI</th><th scope=col>t1</th><th scope=col>responder</th><th scope=col>newcov1</th><th scope=col>newcov2</th></tr></thead>\n",
       "<tbody>\n",
       "\t<tr><td>2500     </td><td>1        </td><td>24       </td><td>29       </td><td>4        </td><td>0        </td><td>0        </td><td>10.031118</td><td>4.965798 </td></tr>\n",
       "\t<tr><td>2500     </td><td>1        </td><td>22       </td><td>29       </td><td>4        </td><td>1        </td><td>0        </td><td>10.031118</td><td>4.965798 </td></tr>\n",
       "\t<tr><td>2500     </td><td>1        </td><td>19       </td><td>29       </td><td>4        </td><td>2        </td><td>0        </td><td>10.031118</td><td>4.965798 </td></tr>\n",
       "\t<tr><td>2500     </td><td>1        </td><td>25       </td><td>29       </td><td>4        </td><td>3        </td><td>0        </td><td>10.031118</td><td>4.965798 </td></tr>\n",
       "\t<tr><td>2509     </td><td>1        </td><td>24       </td><td>31       </td><td>4        </td><td>0        </td><td>1        </td><td> 9.820069</td><td>7.081584 </td></tr>\n",
       "\t<tr><td>2509     </td><td>1        </td><td>10       </td><td>31       </td><td>4        </td><td>1        </td><td>1        </td><td> 9.820069</td><td>7.081584 </td></tr>\n",
       "</tbody>\n",
       "</table>\n"
      ],
      "text/latex": [
       "\\begin{tabular}{r|lllllllll}\n",
       " subj & trt & y & age & BaselineCGI & t1 & responder & newcov1 & newcov2\\\\\n",
       "\\hline\n",
       "\t 2500      & 1         & 24        & 29        & 4         & 0         & 0         & 10.031118 & 4.965798 \\\\\n",
       "\t 2500      & 1         & 22        & 29        & 4         & 1         & 0         & 10.031118 & 4.965798 \\\\\n",
       "\t 2500      & 1         & 19        & 29        & 4         & 2         & 0         & 10.031118 & 4.965798 \\\\\n",
       "\t 2500      & 1         & 25        & 29        & 4         & 3         & 0         & 10.031118 & 4.965798 \\\\\n",
       "\t 2509      & 1         & 24        & 31        & 4         & 0         & 1         &  9.820069 & 7.081584 \\\\\n",
       "\t 2509      & 1         & 10        & 31        & 4         & 1         & 1         &  9.820069 & 7.081584 \\\\\n",
       "\\end{tabular}\n"
      ],
      "text/markdown": [
       "\n",
       "subj | trt | y | age | BaselineCGI | t1 | responder | newcov1 | newcov2 | \n",
       "|---|---|---|---|---|---|\n",
       "| 2500      | 1         | 24        | 29        | 4         | 0         | 0         | 10.031118 | 4.965798  | \n",
       "| 2500      | 1         | 22        | 29        | 4         | 1         | 0         | 10.031118 | 4.965798  | \n",
       "| 2500      | 1         | 19        | 29        | 4         | 2         | 0         | 10.031118 | 4.965798  | \n",
       "| 2500      | 1         | 25        | 29        | 4         | 3         | 0         | 10.031118 | 4.965798  | \n",
       "| 2509      | 1         | 24        | 31        | 4         | 0         | 1         |  9.820069 | 7.081584  | \n",
       "| 2509      | 1         | 10        | 31        | 4         | 1         | 1         |  9.820069 | 7.081584  | \n",
       "\n",
       "\n"
      ],
      "text/plain": [
       "  subj trt y  age BaselineCGI t1 responder newcov1   newcov2 \n",
       "1 2500 1   24 29  4           0  0         10.031118 4.965798\n",
       "2 2500 1   22 29  4           1  0         10.031118 4.965798\n",
       "3 2500 1   19 29  4           2  0         10.031118 4.965798\n",
       "4 2500 1   25 29  4           3  0         10.031118 4.965798\n",
       "5 2509 1   24 31  4           0  1          9.820069 7.081584\n",
       "6 2509 1   10 31  4           1  1          9.820069 7.081584"
      ]
     },
     "metadata": {},
     "output_type": "display_data"
    }
   ],
   "source": [
    "# create new covariates\n",
    "cov01 = rnorm(length(unique(d1$subj)),10,1)\n",
    "cov02 = rnorm(length(unique(d1$subj)),5,1)\n",
    "newcov1 = data.frame(subj = unique(d1$subj), newcov1 = cov01, newcov2 = cov02)\n",
    "d1 = merge(d1,newcov1, by = 'subj')\n",
    "head(d1)"
   ]
  },
  {
   "cell_type": "code",
   "execution_count": 16,
   "metadata": {},
   "outputs": [],
   "source": [
    "# new covariate, which is the combination of the two new covariates\n",
    "# let's make it a simple summation first\n",
    "d0$newcov = d0$newcov1 + d0$newcov2 \n",
    "d1$newcov = d1$newcov1 + d1$newcov2"
   ]
  },
  {
   "cell_type": "code",
   "execution_count": 18,
   "metadata": {},
   "outputs": [
    {
     "name": "stderr",
     "output_type": "stream",
     "text": [
      "singular fit\n"
     ]
    }
   ],
   "source": [
    "# Fit LME\n",
    "fit_d0 = lmer(y ~ t1 + I(t1^2) + newcov + newcov * t1 + newcov * I(t1^2) + (t1+I(t1^2)|subj),\n",
    "                data = d0, REML = FALSE)\n",
    "fit_d1 = lmer(y ~ t1 + I(t1^2) + newcov + newcov * t1 + newcov * I(t1^2) + (t1+I(t1^2)|subj),\n",
    "                data = d1, REML = FALSE)"
   ]
  },
  {
   "cell_type": "code",
   "execution_count": 20,
   "metadata": {},
   "outputs": [
    {
     "data": {
      "text/plain": [
       "Linear mixed model fit by maximum likelihood  ['lmerMod']\n",
       "Formula: y ~ t1 + I(t1^2) + newcov + newcov * t1 + newcov * I(t1^2) +  \n",
       "    (t1 + I(t1^2) | subj)\n",
       "   Data: d0\n",
       "\n",
       "     AIC      BIC   logLik deviance df.resid \n",
       "  5970.0   6033.6  -2972.0   5944.0      965 \n",
       "\n",
       "Scaled residuals: \n",
       "    Min      1Q  Median      3Q     Max \n",
       "-4.2516 -0.5961 -0.0336  0.5374  2.9550 \n",
       "\n",
       "Random effects:\n",
       " Groups   Name        Variance Std.Dev. Corr       \n",
       " subj     (Intercept)  2.1349  1.4611              \n",
       "          t1           5.1128  2.2612    0.96      \n",
       "          I(t1^2)      0.1213  0.3482   -0.98 -0.88\n",
       " Residual             16.1672  4.0208              \n",
       "Number of obs: 978, groups:  subj, 162\n",
       "\n",
       "Fixed effects:\n",
       "               Estimate Std. Error t value\n",
       "(Intercept)    29.31307    3.39179   8.642\n",
       "t1             -9.08822    3.28602  -2.766\n",
       "I(t1^2)         0.98201    0.55240   1.778\n",
       "newcov         -0.41718    0.22569  -1.849\n",
       "t1:newcov       0.32262    0.21865   1.476\n",
       "I(t1^2):newcov -0.03216    0.03675  -0.875\n",
       "\n",
       "Correlation of Fixed Effects:\n",
       "            (Intr) t1     I(t1^2) newcov t1:nwc\n",
       "t1          -0.344                             \n",
       "I(t1^2)      0.242 -0.918                      \n",
       "newcov      -0.996  0.343 -0.241               \n",
       "t1:newcov    0.343 -0.996  0.914  -0.344       \n",
       "I(t1^2):nwc -0.241  0.914 -0.996   0.242 -0.918\n",
       "convergence code: 0\n",
       "singular fit\n"
      ]
     },
     "metadata": {},
     "output_type": "display_data"
    }
   ],
   "source": [
    "summary(fit_d0)"
   ]
  },
  {
   "cell_type": "code",
   "execution_count": 21,
   "metadata": {},
   "outputs": [
    {
     "data": {
      "text/plain": [
       "Linear mixed model fit by maximum likelihood  ['lmerMod']\n",
       "Formula: y ~ t1 + I(t1^2) + newcov + newcov * t1 + newcov * I(t1^2) +  \n",
       "    (t1 + I(t1^2) | subj)\n",
       "   Data: d1\n",
       "\n",
       "     AIC      BIC   logLik deviance df.resid \n",
       "  7281.4   7347.9  -3627.7   7255.4     1218 \n",
       "\n",
       "Scaled residuals: \n",
       "    Min      1Q  Median      3Q     Max \n",
       "-3.2540 -0.5487 -0.0448  0.5174  3.4531 \n",
       "\n",
       "Random effects:\n",
       " Groups   Name        Variance Std.Dev. Corr       \n",
       " subj     (Intercept)  8.0620  2.8394              \n",
       "          t1           7.5757  2.7524    0.07      \n",
       "          I(t1^2)      0.1552  0.3939   -0.22 -0.93\n",
       " Residual             11.7507  3.4279              \n",
       "Number of obs: 1231, groups:  subj, 196\n",
       "\n",
       "Fixed effects:\n",
       "               Estimate Std. Error t value\n",
       "(Intercept)    27.49879    3.27545   8.395\n",
       "t1             -9.88284    2.90459  -3.402\n",
       "I(t1^2)         1.16388    0.44727   2.602\n",
       "newcov         -0.25199    0.21587  -1.167\n",
       "t1:newcov       0.36967    0.19139   1.932\n",
       "I(t1^2):newcov -0.05253    0.02945  -1.784\n",
       "\n",
       "Correlation of Fixed Effects:\n",
       "            (Intr) t1     I(t1^2) newcov t1:nwc\n",
       "t1          -0.338                             \n",
       "I(t1^2)      0.210 -0.934                      \n",
       "newcov      -0.996  0.337 -0.209               \n",
       "t1:newcov    0.337 -0.996  0.930  -0.338       \n",
       "I(t1^2):nwc -0.209  0.931 -0.996   0.210 -0.934"
      ]
     },
     "metadata": {},
     "output_type": "display_data"
    }
   ],
   "source": [
    "summary(fit_d1)"
   ]
  },
  {
   "cell_type": "markdown",
   "metadata": {},
   "source": [
    "### Plot the $\\lambda(x)$ v.s. $w$ figure\n",
    "\n",
    "The $\\lambda$ here is just \n",
    "\n",
    "$$\\lambda(z_i|w_i) = \\frac{f_2(z_i|w_i)}{f_1(z_i|w_i) + f_2(z_i|w_i)}$$\n",
    "\n",
    "Steps:\n",
    "\n",
    "1. Fit LME, calculate the mean and variance of MVN for drug group and placebo group, separately.\n",
    "<br>\n",
    "2. Generate data from the above MVN by using the mean and variance calculated from the LME\n",
    "<br>\n",
    "3. Input values (the value from above generation) and selected w values into the $\\lambda$ function.\n",
    "<br>\n",
    "4. Draw the plot"
   ]
  },
  {
   "cell_type": "code",
   "execution_count": 23,
   "metadata": {},
   "outputs": [],
   "source": [
    "beta0 = as.matrix(fixef(fit_d0)[1:3])\n",
    "gamma0 = as.matrix(fixef(fit_d0)[4:6])\n",
    "beta1 = as.matrix(fixef(fit_d1)[1:3])\n",
    "gamma1 = as.matrix(fixef(fit_d1)[4:6])"
   ]
  },
  {
   "cell_type": "code",
   "execution_count": 26,
   "metadata": {},
   "outputs": [],
   "source": [
    "lambda2 = function(xx, mu0, mu1, sigma0, sigma1){\n",
    "  \n",
    "  quadratic0 = function(a,b) {\n",
    "    X = matrix(c(a,b),nrow=2)\n",
    "    Q = (-1/2)*t(X-mu0)%*%solve(sigma0)%*%(X-mu0)\n",
    "  }\n",
    "  quadratic1 = function(a,b) {\n",
    "    X = matrix(c(a,b),nrow=2)\n",
    "    Q = (-1/2)*t(X-mu1)%*%solve(sigma1)%*%(X-mu1)\n",
    "  }\n",
    "  \n",
    "  f0 = (1/(2*pi))*(1/sqrt(det(sigma0)))*exp(quadratic0(xx[1],xx[2]))\n",
    "  f1 = (1/(2*pi))*(1/sqrt(det(sigma1)))*exp(quadratic1(xx[1],xx[2]))\n",
    "  \n",
    "  return(f1/(f1 + f0))\n",
    "}\n"
   ]
  },
  {
   "cell_type": "code",
   "execution_count": 30,
   "metadata": {},
   "outputs": [],
   "source": [
    "drg_group = c()\n",
    "pat_group = c()\n",
    "Ww = c()\n",
    "for(w in seq(10,20,1)){\n",
    "  \n",
    "  m0 = beta0 + gamma0 * w; m0 = m0[2:3]\n",
    "  m1 = beta1 + gamma1 * w; m1 = m1[2:3]\n",
    "  D0 = as.matrix(VarCorr(fit_d0)$subj)[2:3, 2:3]\n",
    "  D1 = as.matrix(VarCorr(fit_d1)$subj)[2:3, 2:3]\n",
    "  \n",
    "  mu0 = matrix(m0, nrow=2)\n",
    "  sigma0 = D0\n",
    "  mu1 = matrix(m1, nrow=2)\n",
    "  sigma1 = D1\n",
    "  \n",
    "  pat = mvrnorm(10, mu0, sigma0)\n",
    "  drg = mvrnorm(10, mu1, sigma1)\n",
    "  \n",
    "  for(i in 1:10){\n",
    "    pat_group = c(pat_group, lambda2(pat[i,], mu0, mu1, sigma0, sigma1))\n",
    "  }\n",
    "  \n",
    "  for(i in 1:10){\n",
    "    drg_group = c(drg_group, lambda2(drg[i,], mu0, mu1, sigma0, sigma1))\n",
    "  }\n",
    "  \n",
    "  Ww = c(Ww, rep(w, 10))\n",
    "}"
   ]
  },
  {
   "cell_type": "code",
   "execution_count": 35,
   "metadata": {},
   "outputs": [
    {
     "data": {
      "image/png": "[encoded data removed]",
      "text/plain": [
       "plot without title"
      ]
     },
     "metadata": {},
     "output_type": "display_data"
    }
   ],
   "source": [
    "options(repr.plot.width=4, repr.plot.height=3)\n",
    "plot(Ww, drg_group, cex = 0.5, col = 'red', ylab = 'lambda', xlab= 'w')\n",
    "points(Ww+0.1, pat_group, cex = 0.5)"
   ]
  },
  {
   "cell_type": "code",
   "execution_count": null,
   "metadata": {},
   "outputs": [],
   "source": []
  },
  {
   "cell_type": "code",
   "execution_count": null,
   "metadata": {},
   "outputs": [],
   "source": []
  },
  {
   "cell_type": "code",
   "execution_count": null,
   "metadata": {},
   "outputs": [],
   "source": []
  },
  {
   "cell_type": "code",
   "execution_count": null,
   "metadata": {},
   "outputs": [],
   "source": []
  },
  {
   "cell_type": "code",
   "execution_count": null,
   "metadata": {},
   "outputs": [],
   "source": []
  },
  {
   "cell_type": "code",
   "execution_count": null,
   "metadata": {},
   "outputs": [],
   "source": []
  },
  {
   "cell_type": "code",
   "execution_count": null,
   "metadata": {},
   "outputs": [],
   "source": []
  },
  {
   "cell_type": "code",
   "execution_count": null,
   "metadata": {},
   "outputs": [],
   "source": []
  },
  {
   "cell_type": "code",
   "execution_count": null,
   "metadata": {},
   "outputs": [],
   "source": []
  },
  {
   "cell_type": "code",
   "execution_count": null,
   "metadata": {},
   "outputs": [],
   "source": []
  },
  {
   "cell_type": "code",
   "execution_count": null,
   "metadata": {},
   "outputs": [],
   "source": []
  }
 ],
 "metadata": {
  "kernelspec": {
   "display_name": "R",
   "language": "R",
   "name": "ir"
  },
  "language_info": {
   "codemirror_mode": "r",
   "file_extension": ".r",
   "mimetype": "text/x-r-source",
   "name": "R",
   "pygments_lexer": "r",
   "version": "3.5.1"
  }
 },
 "nbformat": 4,
 "nbformat_minor": 2
}
