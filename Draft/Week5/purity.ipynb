{
 "cells": [
  {
   "cell_type": "markdown",
   "metadata": {},
   "source": [
    "## Try to calculate the purity with generated covariates\n",
    "\n",
    "Date: 2019-2-20"
   ]
  },
  {
   "cell_type": "markdown",
   "metadata": {},
   "source": [
    "To calculate the max purity function, first,  fit the linear mixed model for the outcome $\\mathbf{y_i}$  and time $\\mathbf{X_i}$, with baseline covariates $\\mathbf{x_i}$:  \n",
    "$$\\mathbf{y_i} = \\mathbf{X_i}(\\mathbf{\\beta} +\\mathbf{b_i} +\\mathbf{\\Gamma}(\\mathbf{\\alpha}'\\mathbf{x_i})) + \\mathbf{\\epsilon_i}.$$\n",
    "where, \n",
    "\n",
    "* $\\mathbf{y_i}$ is the vector of outcomes for the $i$th subject, i.e., the dimension of $\\mathbf{y_i}$ is ($n_i$, 1). $n_i$ is the number of observations for the $i$th subject.  \n",
    "\n",
    "* $\\mathbf{X_i}$ is the covariate matrix for $i$th subject. The dimension is ($n_i$, p). Here in our example, it is ($n_i$,3).\n",
    "\n",
    "* $\\mathbf{\\beta}$ is the coeffcient vector for the fixed effects of $\\mathbf{X_i}$. Dimension is (p,1). \n",
    "\n",
    "* $\\mathbf{x_i}$ is the vector of baseline covariates for the subject. The dimension is (q, 1).\n",
    "\n",
    "* $\\mathbf{b_i}$ is the vector of random effects. Dimension is (p,1). \n",
    "\n",
    "* $\\mathbf{\\Gamma}$ is the vector of fixed effects of the baseline covariates. Dimension is (p,1). \n",
    "\n",
    "* $w_i=\\mathbf{\\alpha}'\\mathbf{x_i}$ is the combination of the input baseline covariates. $w_i$ is a scalar. \n",
    "\n",
    "We can define the covariate matrix of $\\mathbf{X_i}$ as $\\mathbf{z_i}$. The $\\mathbf{z_i}$ contains both fixed effects and random effects. \n",
    "$$\\mathbf{z_i} = \\mathbf{\\beta} + \\mathbf{b_i} + \\mathbf{\\Gamma} w_i$$\n",
    "We can also write the above equation in the matrix version:\n",
    "$$Y_i = \\left[\\begin{array}\n",
    "{rrr}\n",
    "1 & t_1 & t_1^2 \\\\\n",
    "1 & t_2 & t_2^2 \\\\\n",
    "... & ... & ... \\\\\n",
    "1 & t_{n_{i}} & t_{n_{i}}^2\n",
    "\\end{array}\\right]\n",
    "\\left[\\begin{pmatrix}\n",
    "\\beta_0 \\\\\n",
    "\\beta_1 \\\\\n",
    "\\beta_2\n",
    "\\end{pmatrix} +  \n",
    "\\begin{pmatrix}\n",
    "b_{i0} \\\\\n",
    "b_{i1} \\\\\n",
    "b_{i2}\n",
    "\\end{pmatrix} + \n",
    "\\begin{pmatrix}\n",
    "\\gamma_0 \\\\\n",
    "\\gamma_1 \\\\\n",
    "\\gamma_2\n",
    "\\end{pmatrix} w_i \\right] + \\mathbf{\\epsilon_i}$$\n",
    "For different subjects, they have the same $\\mathbf{\\beta}$ vector and the same $\\mathbf{\\Gamma}$ vector. Their random effect vector $\\mathbf{b_i}$ are different. \n"
   ]
  },
  {
   "cell_type": "code",
   "execution_count": null,
   "metadata": {},
   "outputs": [],
   "source": []
  },
  {
   "cell_type": "markdown",
   "metadata": {},
   "source": [
    "\n",
    "# Step 1:\n",
    "### Estimate the $\\mathbf{\\beta}$ ,$\\mathbf{\\Gamma}$, $\\mathbf{b_i}$ in R\n"
   ]
  },
  {
   "cell_type": "markdown",
   "metadata": {},
   "source": [
    "#### Read in data"
   ]
  },
  {
   "cell_type": "code",
   "execution_count": 4,
   "metadata": {},
   "outputs": [
    {
     "data": {
      "text/html": [
       "<ol class=list-inline>\n",
       "\t<li>3364</li>\n",
       "\t<li>7</li>\n",
       "</ol>\n"
      ],
      "text/latex": [
       "\\begin{enumerate*}\n",
       "\\item 3364\n",
       "\\item 7\n",
       "\\end{enumerate*}\n"
      ],
      "text/markdown": [
       "1. 3364\n",
       "2. 7\n",
       "\n",
       "\n"
      ],
      "text/plain": [
       "[1] 3364    7"
      ]
     },
     "metadata": {},
     "output_type": "display_data"
    }
   ],
   "source": [
    "setwd('/Users/yaolanqiu/Desktop/NYU/rotation/Rotation2/Week3/from dr.tarpey')\n",
    "\n",
    "library(lme4)\n",
    "source(\"cvxcluster-0513.R\")\n",
    "\n",
    "dat = read.table(\"hcaf.dat\", header=T)\n",
    "dim(dat) # 3364 7 "
   ]
  },
  {
   "cell_type": "markdown",
   "metadata": {},
   "source": [
    "#### Define the covariates\n",
    "\n",
    "First let's try Baseline CGI\n",
    "<br>\n",
    "Let the 'newcov' = 'BaselineCGI'"
   ]
  },
  {
   "cell_type": "code",
   "execution_count": 5,
   "metadata": {},
   "outputs": [],
   "source": [
    "dat$newcov = dat$BaselineCGI"
   ]
  },
  {
   "cell_type": "markdown",
   "metadata": {},
   "source": [
    "#### Fit LME"
   ]
  },
  {
   "cell_type": "code",
   "execution_count": 6,
   "metadata": {
    "scrolled": true
   },
   "outputs": [
    {
     "name": "stderr",
     "output_type": "stream",
     "text": [
      "singular fit\n"
     ]
    }
   ],
   "source": [
    "d0 = dat[dat$trt == 0 ,]\n",
    "d1 = dat[dat$trt == 1 ,]\n",
    "fit_d0 = lmer(y ~ t1 + I(t1^2) + newcov + newcov * t1 + \n",
    "                newcov * I(t1^2) + (t1+I(t1^2)|subj), \n",
    "              data = d0, REML = FALSE)\n",
    "fit_d1 = lmer(y ~ t1 + I(t1^2) + newcov + newcov * t1 + \n",
    "                newcov * I(t1^2) + (t1+I(t1^2)|subj),\n",
    "              data = d1, REML = FALSE)"
   ]
  },
  {
   "cell_type": "markdown",
   "metadata": {},
   "source": [
    "The estimated beta and gamma is "
   ]
  },
  {
   "cell_type": "code",
   "execution_count": 7,
   "metadata": {},
   "outputs": [],
   "source": [
    "beta_d0 = as.matrix(fixef(fit_d0)[1:3])\n",
    "gamma_d0 = as.matrix(fixef(fit_d0)[4:6])\n",
    "beta_d1 = as.matrix(fixef(fit_d1)[1:3])\n",
    "gamma_d1 = as.matrix(fixef(fit_d1)[4:6])"
   ]
  },
  {
   "cell_type": "code",
   "execution_count": 8,
   "metadata": {},
   "outputs": [
    {
     "data": {
      "text/html": [
       "<table>\n",
       "<tbody>\n",
       "\t<tr><th scope=row>(Intercept)</th><td>14.0172657</td></tr>\n",
       "\t<tr><th scope=row>t1</th><td>-5.0133105</td></tr>\n",
       "\t<tr><th scope=row>I(t1^2)</th><td> 0.7171924</td></tr>\n",
       "</tbody>\n",
       "</table>\n"
      ],
      "text/latex": [
       "\\begin{tabular}{r|l}\n",
       "\t(Intercept) & 14.0172657\\\\\n",
       "\tt1 & -5.0133105\\\\\n",
       "\tI(t1\\textasciicircum{}2) &  0.7171924\\\\\n",
       "\\end{tabular}\n"
      ],
      "text/markdown": [
       "\n",
       "| (Intercept) | 14.0172657 | \n",
       "| t1 | -5.0133105 | \n",
       "| I(t1^2) |  0.7171924 | \n",
       "\n",
       "\n"
      ],
      "text/plain": [
       "            [,1]      \n",
       "(Intercept) 14.0172657\n",
       "t1          -5.0133105\n",
       "I(t1^2)      0.7171924"
      ]
     },
     "metadata": {},
     "output_type": "display_data"
    }
   ],
   "source": [
    "beta_d0"
   ]
  },
  {
   "cell_type": "code",
   "execution_count": 9,
   "metadata": {},
   "outputs": [
    {
     "data": {
      "text/html": [
       "<table>\n",
       "<tbody>\n",
       "\t<tr><th scope=row>newcov</th><td> 2.04212314</td></tr>\n",
       "\t<tr><th scope=row>t1:newcov</th><td> 0.17005552</td></tr>\n",
       "\t<tr><th scope=row>I(t1^2):newcov</th><td>-0.04868318</td></tr>\n",
       "</tbody>\n",
       "</table>\n"
      ],
      "text/latex": [
       "\\begin{tabular}{r|l}\n",
       "\tnewcov &  2.04212314\\\\\n",
       "\tt1:newcov &  0.17005552\\\\\n",
       "\tI(t1\\textasciicircum{}2):newcov & -0.04868318\\\\\n",
       "\\end{tabular}\n"
      ],
      "text/markdown": [
       "\n",
       "| newcov |  2.04212314 | \n",
       "| t1:newcov |  0.17005552 | \n",
       "| I(t1^2):newcov | -0.04868318 | \n",
       "\n",
       "\n"
      ],
      "text/plain": [
       "               [,1]       \n",
       "newcov          2.04212314\n",
       "t1:newcov       0.17005552\n",
       "I(t1^2):newcov -0.04868318"
      ]
     },
     "metadata": {},
     "output_type": "display_data"
    }
   ],
   "source": [
    "gamma_d0"
   ]
  },
  {
   "cell_type": "code",
   "execution_count": 10,
   "metadata": {},
   "outputs": [
    {
     "data": {
      "text/html": [
       "<table>\n",
       "<tbody>\n",
       "\t<tr><th scope=row>(Intercept)</th><td>13.455594</td></tr>\n",
       "\t<tr><th scope=row>t1</th><td>-3.400881</td></tr>\n",
       "\t<tr><th scope=row>I(t1^2)</th><td> 0.484097</td></tr>\n",
       "</tbody>\n",
       "</table>\n"
      ],
      "text/latex": [
       "\\begin{tabular}{r|l}\n",
       "\t(Intercept) & 13.455594\\\\\n",
       "\tt1 & -3.400881\\\\\n",
       "\tI(t1\\textasciicircum{}2) &  0.484097\\\\\n",
       "\\end{tabular}\n"
      ],
      "text/markdown": [
       "\n",
       "| (Intercept) | 13.455594 | \n",
       "| t1 | -3.400881 | \n",
       "| I(t1^2) |  0.484097 | \n",
       "\n",
       "\n"
      ],
      "text/plain": [
       "            [,1]     \n",
       "(Intercept) 13.455594\n",
       "t1          -3.400881\n",
       "I(t1^2)      0.484097"
      ]
     },
     "metadata": {},
     "output_type": "display_data"
    }
   ],
   "source": [
    "beta_d1"
   ]
  },
  {
   "cell_type": "code",
   "execution_count": 11,
   "metadata": {},
   "outputs": [
    {
     "data": {
      "text/html": [
       "<table>\n",
       "<tbody>\n",
       "\t<tr><th scope=row>newcov</th><td> 2.28686752</td></tr>\n",
       "\t<tr><th scope=row>t1:newcov</th><td>-0.19895847</td></tr>\n",
       "\t<tr><th scope=row>I(t1^2):newcov</th><td>-0.02576792</td></tr>\n",
       "</tbody>\n",
       "</table>\n"
      ],
      "text/latex": [
       "\\begin{tabular}{r|l}\n",
       "\tnewcov &  2.28686752\\\\\n",
       "\tt1:newcov & -0.19895847\\\\\n",
       "\tI(t1\\textasciicircum{}2):newcov & -0.02576792\\\\\n",
       "\\end{tabular}\n"
      ],
      "text/markdown": [
       "\n",
       "| newcov |  2.28686752 | \n",
       "| t1:newcov | -0.19895847 | \n",
       "| I(t1^2):newcov | -0.02576792 | \n",
       "\n",
       "\n"
      ],
      "text/plain": [
       "               [,1]       \n",
       "newcov          2.28686752\n",
       "t1:newcov      -0.19895847\n",
       "I(t1^2):newcov -0.02576792"
      ]
     },
     "metadata": {},
     "output_type": "display_data"
    }
   ],
   "source": [
    "gamma_d1"
   ]
  },
  {
   "cell_type": "code",
   "execution_count": 12,
   "metadata": {},
   "outputs": [],
   "source": [
    "beta0 = as.matrix(fixef(fit_d0)[1:3])\n",
    "gamma0 = as.matrix(fixef(fit_d0)[4:6])\n",
    "\n",
    "beta1 = as.matrix(fixef(fit_d1)[1:3])\n",
    "gamma1 = as.matrix(fixef(fit_d1)[4:6])"
   ]
  },
  {
   "cell_type": "markdown",
   "metadata": {},
   "source": [
    "\n",
    "# Step 2:\n",
    "\n",
    "estimate the distribution of $\\mathbf{z_i}$ for drug group and placebo, separately.\n",
    "$$\\begin{aligned}\n",
    "f(z_i) &= \\int_{w_{i}} f(z_i,w_i) dw_i \\\\\n",
    " & = \\int_{w_i} f(z_i|w_i) g(w_i) dw_i\n",
    "\\end{aligned}$$\n",
    "where,\n",
    "\n",
    "* the conditional distribution $f(z_i|w_i) \\sim MVN( \\mathbf{\\beta} + \\mathbf{\\Gamma} w_i, \\mathbf{D_i})$\n",
    "\n",
    "* $g(w_i)$ is the distribution of the covariates combination. For example, if the covariates combination only contains \"sex\", which is binary, then the intergal becomes summation.\n",
    "\n",
    "* $\\mathbf{D_i}$ is the covariates matrix of random effects $\\mathbf{b_i}$. \n",
    "\n",
    "We could then fit the $f(\\cdot)$ for drug group and placebo group separately, i.e. $f_1(z)$ and $f_2(z)$. \n",
    "\n",
    "# Step 3: Define the purity\n",
    "\n",
    "The purity should be a function of $w_i$. First calculate the integral of $z_i$. Then,\n",
    "$$P_{w_i} = \\int_{z_i} \\frac{[f_1(z_i|w_i) - f_2(z_i|w_i)]^2}{[f_1(z_i|w_i) + f_2(z_i|w_i)]^2} (f_1(z_i|w_i) + f_2(z_i|w_i)) dz_i = \\int_{z_i} \\frac{[f_1(z_i|w_i) - f_2(z_i|w_i)]^2}{f_1(z_i|w_i) + f_2(z_i|w_i)} dz_i$$"
   ]
  },
  {
   "cell_type": "markdown",
   "metadata": {},
   "source": [
    "#### calculate the integral and purity"
   ]
  },
  {
   "cell_type": "code",
   "execution_count": 13,
   "metadata": {},
   "outputs": [],
   "source": [
    "quadratic0 = function(a,b) {\n",
    "    X = matrix(c(a,b),nrow=2)\n",
    "    Q = (-1/2)*t(X-mu0)%*%solve(sigma0)%*%(X-mu0)\n",
    "}\n",
    "quadratic1 = function(a,b) {\n",
    "    X = matrix(c(a,b),nrow=2)\n",
    "    Q = (-1/2)*t(X-mu1)%*%solve(sigma1)%*%(X-mu1)\n",
    "}\n",
    "  \n",
    "PDF = function(x) {\n",
    "  f0 = (1/(2*pi))*(1/sqrt(det(sigma0)))*exp(quadratic0(x[1],x[2]))\n",
    "  f1 = (1/(2*pi))*(1/sqrt(det(sigma1)))*exp(quadratic1(x[1],x[2]))\n",
    "  if((f0 + f1)!=0){\n",
    "      res = (f0 - f1)^2 / (f0 + f1)\n",
    "    }else{res = 0}\n",
    "  return(res)\n",
    "}"
   ]
  },
  {
   "cell_type": "code",
   "execution_count": 16,
   "metadata": {},
   "outputs": [
    {
     "data": {
      "text/html": [
       "0.0303075344326379"
      ],
      "text/latex": [
       "0.0303075344326379"
      ],
      "text/markdown": [
       "0.0303075344326379"
      ],
      "text/plain": [
       "[1] 0.03030753"
      ]
     },
     "metadata": {},
     "output_type": "display_data"
    },
    {
     "data": {
      "text/html": [
       "16.4569911969224"
      ],
      "text/latex": [
       "16.4569911969224"
      ],
      "text/markdown": [
       "16.4569911969224"
      ],
      "text/plain": [
       "[1] 16.45699"
      ]
     },
     "metadata": {},
     "output_type": "display_data"
    }
   ],
   "source": [
    "library(cubature)\n",
    "# get unique w value for each subject\n",
    "W = data.frame(subj = dat$subj, newcov = dat$newcov)\n",
    "W = unique(W)\n",
    "\n",
    "P = c() # save the purity value in P\n",
    "for(i in W$newcov){\n",
    "    w = i\n",
    "    m0 = beta0 + gamma0 * w; m0 = m0[2:3]\n",
    "    m1 = beta1 + gamma1 * w; m1 = m1[2:3]\n",
    "    D0 = as.matrix(VarCorr(fit_d0)$subj)[2:3, 2:3]\n",
    "    D1 = as.matrix(VarCorr(fit_d1)$subj)[2:3, 2:3]\n",
    "    \n",
    "    mu0 =  matrix(m0, nrow=2)\n",
    "    sigma0 = D0\n",
    "    mu1 = matrix(m1, nrow=2)\n",
    "    sigma1 = D1\n",
    "    \n",
    "    P = c(P,adaptIntegrate(PDF, \n",
    "                           lowerLimit= c(-1,-1),  \n",
    "                           upperLimit=c(1,1))$integral)\n",
    "  }\n",
    "mean(P) \n",
    "sum(P) "
   ]
  },
  {
   "cell_type": "code",
   "execution_count": null,
   "metadata": {},
   "outputs": [],
   "source": []
  },
  {
   "cell_type": "markdown",
   "metadata": {},
   "source": [
    "#### Define the covariates 2\n",
    "\n",
    "First let's generate covariates by ourselves"
   ]
  },
  {
   "cell_type": "code",
   "execution_count": 20,
   "metadata": {},
   "outputs": [
    {
     "data": {
      "text/html": [
       "<table>\n",
       "<thead><tr><th scope=col>subj</th><th scope=col>trt</th><th scope=col>y</th><th scope=col>age</th><th scope=col>BaselineCGI</th><th scope=col>t1</th><th scope=col>responder</th><th scope=col>newcov1</th><th scope=col>newcov2</th><th scope=col>newcov</th></tr></thead>\n",
       "<tbody>\n",
       "\t<tr><td>2497    </td><td>0       </td><td>25      </td><td>29      </td><td>4       </td><td>0       </td><td>0       </td><td>4.726312</td><td>11.97518</td><td>16.70149</td></tr>\n",
       "\t<tr><td>2497    </td><td>0       </td><td>18      </td><td>29      </td><td>4       </td><td>1       </td><td>0       </td><td>4.726312</td><td>11.97518</td><td>16.70149</td></tr>\n",
       "\t<tr><td>2497    </td><td>0       </td><td>11      </td><td>29      </td><td>4       </td><td>2       </td><td>0       </td><td>4.726312</td><td>11.97518</td><td>16.70149</td></tr>\n",
       "\t<tr><td>2497    </td><td>0       </td><td> 9      </td><td>29      </td><td>4       </td><td>3       </td><td>0       </td><td>4.726312</td><td>11.97518</td><td>16.70149</td></tr>\n",
       "\t<tr><td>2497    </td><td>0       </td><td>19      </td><td>29      </td><td>4       </td><td>4       </td><td>0       </td><td>4.726312</td><td>11.97518</td><td>16.70149</td></tr>\n",
       "\t<tr><td>2497    </td><td>0       </td><td>15      </td><td>29      </td><td>4       </td><td>5       </td><td>0       </td><td>4.726312</td><td>11.97518</td><td>16.70149</td></tr>\n",
       "</tbody>\n",
       "</table>\n"
      ],
      "text/latex": [
       "\\begin{tabular}{r|llllllllll}\n",
       " subj & trt & y & age & BaselineCGI & t1 & responder & newcov1 & newcov2 & newcov\\\\\n",
       "\\hline\n",
       "\t 2497     & 0        & 25       & 29       & 4        & 0        & 0        & 4.726312 & 11.97518 & 16.70149\\\\\n",
       "\t 2497     & 0        & 18       & 29       & 4        & 1        & 0        & 4.726312 & 11.97518 & 16.70149\\\\\n",
       "\t 2497     & 0        & 11       & 29       & 4        & 2        & 0        & 4.726312 & 11.97518 & 16.70149\\\\\n",
       "\t 2497     & 0        &  9       & 29       & 4        & 3        & 0        & 4.726312 & 11.97518 & 16.70149\\\\\n",
       "\t 2497     & 0        & 19       & 29       & 4        & 4        & 0        & 4.726312 & 11.97518 & 16.70149\\\\\n",
       "\t 2497     & 0        & 15       & 29       & 4        & 5        & 0        & 4.726312 & 11.97518 & 16.70149\\\\\n",
       "\\end{tabular}\n"
      ],
      "text/markdown": [
       "\n",
       "subj | trt | y | age | BaselineCGI | t1 | responder | newcov1 | newcov2 | newcov | \n",
       "|---|---|---|---|---|---|\n",
       "| 2497     | 0        | 25       | 29       | 4        | 0        | 0        | 4.726312 | 11.97518 | 16.70149 | \n",
       "| 2497     | 0        | 18       | 29       | 4        | 1        | 0        | 4.726312 | 11.97518 | 16.70149 | \n",
       "| 2497     | 0        | 11       | 29       | 4        | 2        | 0        | 4.726312 | 11.97518 | 16.70149 | \n",
       "| 2497     | 0        |  9       | 29       | 4        | 3        | 0        | 4.726312 | 11.97518 | 16.70149 | \n",
       "| 2497     | 0        | 19       | 29       | 4        | 4        | 0        | 4.726312 | 11.97518 | 16.70149 | \n",
       "| 2497     | 0        | 15       | 29       | 4        | 5        | 0        | 4.726312 | 11.97518 | 16.70149 | \n",
       "\n",
       "\n"
      ],
      "text/plain": [
       "  subj trt y  age BaselineCGI t1 responder newcov1  newcov2  newcov  \n",
       "1 2497 0   25 29  4           0  0         4.726312 11.97518 16.70149\n",
       "2 2497 0   18 29  4           1  0         4.726312 11.97518 16.70149\n",
       "3 2497 0   11 29  4           2  0         4.726312 11.97518 16.70149\n",
       "4 2497 0    9 29  4           3  0         4.726312 11.97518 16.70149\n",
       "5 2497 0   19 29  4           4  0         4.726312 11.97518 16.70149\n",
       "6 2497 0   15 29  4           5  0         4.726312 11.97518 16.70149"
      ]
     },
     "metadata": {},
     "output_type": "display_data"
    }
   ],
   "source": [
    "# create new covariates\n",
    "# read in data\n",
    "dat = read.table(\"hcaf.dat\", header=T)\n",
    "d0 = dat[dat$trt == 0,]\n",
    "d1 = dat[dat$trt == 1,]\n",
    "\n",
    "cov01 = rnorm(length(unique(d0$subj)),5,1)\n",
    "cov02 = rnorm(length(unique(d0$subj)),10,1)\n",
    "newcov0 = data.frame(subj = unique(d0$subj), newcov1 = cov01, newcov2 = cov02)\n",
    "d0 = merge(d0,newcov0, by = 'subj')\n",
    "\n",
    "# create new covariates\n",
    "cov01 = rnorm(length(unique(d1$subj)),10,1)\n",
    "cov02 = rnorm(length(unique(d1$subj)),5,1)\n",
    "newcov1 = data.frame(subj = unique(d1$subj), newcov1 = cov01, newcov2 = cov02)\n",
    "d1 = merge(d1,newcov1, by = 'subj')\n",
    "\n",
    "# new covariate, which is the combination of the two new covariates\n",
    "# let's make it a simple summation first\n",
    "d0$newcov = d0$newcov1 + d0$newcov2 \n",
    "d1$newcov = d1$newcov1 + d1$newcov2\n",
    "\n",
    "dat = rbind(d0, d1)\n",
    "d0 = dat[dat$trt == 0,]\n",
    "d1 = dat[dat$trt == 1,]\n",
    "head(dat)"
   ]
  },
  {
   "cell_type": "code",
   "execution_count": 21,
   "metadata": {},
   "outputs": [
    {
     "data": {
      "text/html": [
       "0.183757890167255"
      ],
      "text/latex": [
       "0.183757890167255"
      ],
      "text/markdown": [
       "0.183757890167255"
      ],
      "text/plain": [
       "[1] 0.1837579"
      ]
     },
     "metadata": {},
     "output_type": "display_data"
    },
    {
     "data": {
      "text/html": [
       "65.7853246798773"
      ],
      "text/latex": [
       "65.7853246798773"
      ],
      "text/markdown": [
       "65.7853246798773"
      ],
      "text/plain": [
       "[1] 65.78532"
      ]
     },
     "metadata": {},
     "output_type": "display_data"
    }
   ],
   "source": [
    "# get unique w value for each subject\n",
    "W = data.frame(subj = dat$subj, newcov = dat$newcov)\n",
    "W = unique(W)\n",
    "\n",
    "P = c() # save the purity value in P\n",
    "for(i in W$newcov){\n",
    "    w = i\n",
    "    m0 = beta0 + gamma0 * w; m0 = m0[2:3]\n",
    "    m1 = beta1 + gamma1 * w; m1 = m1[2:3]\n",
    "    D0 = as.matrix(VarCorr(fit_d0)$subj)[2:3, 2:3]\n",
    "    D1 = as.matrix(VarCorr(fit_d1)$subj)[2:3, 2:3]\n",
    "    \n",
    "    mu0 =  matrix(m0, nrow=2)\n",
    "    sigma0 = D0\n",
    "    mu1 = matrix(m1, nrow=2)\n",
    "    sigma1 = D1\n",
    "    \n",
    "    P = c(P,adaptIntegrate(PDF, \n",
    "                           lowerLimit= c(-1,-1),  \n",
    "                           upperLimit=c(1,1))$integral)\n",
    "  }\n",
    "mean(P) \n",
    "sum(P)"
   ]
  },
  {
   "cell_type": "markdown",
   "metadata": {},
   "source": [
    "The value is bigger, which means that the new covariate can help classify groups better than baseline CGI"
   ]
  },
  {
   "cell_type": "markdown",
   "metadata": {},
   "source": [
    "#### Define the covariates 3\n",
    "\n",
    "First let's generate covariates by ourselves"
   ]
  },
  {
   "cell_type": "code",
   "execution_count": 22,
   "metadata": {},
   "outputs": [
    {
     "data": {
      "text/html": [
       "<table>\n",
       "<thead><tr><th scope=col>subj</th><th scope=col>trt</th><th scope=col>y</th><th scope=col>age</th><th scope=col>BaselineCGI</th><th scope=col>t1</th><th scope=col>responder</th><th scope=col>newcov1</th><th scope=col>newcov2</th><th scope=col>newcov</th></tr></thead>\n",
       "<tbody>\n",
       "\t<tr><td>2497    </td><td>0       </td><td>25      </td><td>29      </td><td>4       </td><td>0       </td><td>0       </td><td>5.638603</td><td>8.842928</td><td>5.638603</td></tr>\n",
       "\t<tr><td>2497    </td><td>0       </td><td>18      </td><td>29      </td><td>4       </td><td>1       </td><td>0       </td><td>5.638603</td><td>8.842928</td><td>5.638603</td></tr>\n",
       "\t<tr><td>2497    </td><td>0       </td><td>11      </td><td>29      </td><td>4       </td><td>2       </td><td>0       </td><td>5.638603</td><td>8.842928</td><td>5.638603</td></tr>\n",
       "\t<tr><td>2497    </td><td>0       </td><td> 9      </td><td>29      </td><td>4       </td><td>3       </td><td>0       </td><td>5.638603</td><td>8.842928</td><td>5.638603</td></tr>\n",
       "\t<tr><td>2497    </td><td>0       </td><td>19      </td><td>29      </td><td>4       </td><td>4       </td><td>0       </td><td>5.638603</td><td>8.842928</td><td>5.638603</td></tr>\n",
       "\t<tr><td>2497    </td><td>0       </td><td>15      </td><td>29      </td><td>4       </td><td>5       </td><td>0       </td><td>5.638603</td><td>8.842928</td><td>5.638603</td></tr>\n",
       "</tbody>\n",
       "</table>\n"
      ],
      "text/latex": [
       "\\begin{tabular}{r|llllllllll}\n",
       " subj & trt & y & age & BaselineCGI & t1 & responder & newcov1 & newcov2 & newcov\\\\\n",
       "\\hline\n",
       "\t 2497     & 0        & 25       & 29       & 4        & 0        & 0        & 5.638603 & 8.842928 & 5.638603\\\\\n",
       "\t 2497     & 0        & 18       & 29       & 4        & 1        & 0        & 5.638603 & 8.842928 & 5.638603\\\\\n",
       "\t 2497     & 0        & 11       & 29       & 4        & 2        & 0        & 5.638603 & 8.842928 & 5.638603\\\\\n",
       "\t 2497     & 0        &  9       & 29       & 4        & 3        & 0        & 5.638603 & 8.842928 & 5.638603\\\\\n",
       "\t 2497     & 0        & 19       & 29       & 4        & 4        & 0        & 5.638603 & 8.842928 & 5.638603\\\\\n",
       "\t 2497     & 0        & 15       & 29       & 4        & 5        & 0        & 5.638603 & 8.842928 & 5.638603\\\\\n",
       "\\end{tabular}\n"
      ],
      "text/markdown": [
       "\n",
       "subj | trt | y | age | BaselineCGI | t1 | responder | newcov1 | newcov2 | newcov | \n",
       "|---|---|---|---|---|---|\n",
       "| 2497     | 0        | 25       | 29       | 4        | 0        | 0        | 5.638603 | 8.842928 | 5.638603 | \n",
       "| 2497     | 0        | 18       | 29       | 4        | 1        | 0        | 5.638603 | 8.842928 | 5.638603 | \n",
       "| 2497     | 0        | 11       | 29       | 4        | 2        | 0        | 5.638603 | 8.842928 | 5.638603 | \n",
       "| 2497     | 0        |  9       | 29       | 4        | 3        | 0        | 5.638603 | 8.842928 | 5.638603 | \n",
       "| 2497     | 0        | 19       | 29       | 4        | 4        | 0        | 5.638603 | 8.842928 | 5.638603 | \n",
       "| 2497     | 0        | 15       | 29       | 4        | 5        | 0        | 5.638603 | 8.842928 | 5.638603 | \n",
       "\n",
       "\n"
      ],
      "text/plain": [
       "  subj trt y  age BaselineCGI t1 responder newcov1  newcov2  newcov  \n",
       "1 2497 0   25 29  4           0  0         5.638603 8.842928 5.638603\n",
       "2 2497 0   18 29  4           1  0         5.638603 8.842928 5.638603\n",
       "3 2497 0   11 29  4           2  0         5.638603 8.842928 5.638603\n",
       "4 2497 0    9 29  4           3  0         5.638603 8.842928 5.638603\n",
       "5 2497 0   19 29  4           4  0         5.638603 8.842928 5.638603\n",
       "6 2497 0   15 29  4           5  0         5.638603 8.842928 5.638603"
      ]
     },
     "metadata": {},
     "output_type": "display_data"
    }
   ],
   "source": [
    "# create new covariates\n",
    "# read in data\n",
    "dat = read.table(\"hcaf.dat\", header=T)\n",
    "d0 = dat[dat$trt == 0,]\n",
    "d1 = dat[dat$trt == 1,]\n",
    "\n",
    "cov01 = rnorm(length(unique(d0$subj)),5,1)\n",
    "cov02 = rnorm(length(unique(d0$subj)),10,1)\n",
    "newcov0 = data.frame(subj = unique(d0$subj), newcov1 = cov01, newcov2 = cov02)\n",
    "d0 = merge(d0,newcov0, by = 'subj')\n",
    "\n",
    "# create new covariates\n",
    "cov01 = rnorm(length(unique(d1$subj)),10,1)\n",
    "cov02 = rnorm(length(unique(d1$subj)),5,1)\n",
    "newcov1 = data.frame(subj = unique(d1$subj), newcov1 = cov01, newcov2 = cov02)\n",
    "d1 = merge(d1,newcov1, by = 'subj')\n",
    "\n",
    "# new covariate, which is the combination of the two new covariates\n",
    "# let's make it a simple summation first\n",
    "d0$newcov = d0$newcov1 #+ d0$newcov2 \n",
    "d1$newcov = d1$newcov1 #+ d1$newcov2\n",
    "\n",
    "dat = rbind(d0, d1)\n",
    "d0 = dat[dat$trt == 0,]\n",
    "d1 = dat[dat$trt == 1,]\n",
    "head(dat)"
   ]
  },
  {
   "cell_type": "code",
   "execution_count": 23,
   "metadata": {},
   "outputs": [
    {
     "data": {
      "text/html": [
       "0.0689950340817801"
      ],
      "text/latex": [
       "0.0689950340817801"
      ],
      "text/markdown": [
       "0.0689950340817801"
      ],
      "text/plain": [
       "[1] 0.06899503"
      ]
     },
     "metadata": {},
     "output_type": "display_data"
    },
    {
     "data": {
      "text/html": [
       "24.7002222012773"
      ],
      "text/latex": [
       "24.7002222012773"
      ],
      "text/markdown": [
       "24.7002222012773"
      ],
      "text/plain": [
       "[1] 24.70022"
      ]
     },
     "metadata": {},
     "output_type": "display_data"
    }
   ],
   "source": [
    "# get unique w value for each subject\n",
    "W = data.frame(subj = dat$subj, newcov = dat$newcov)\n",
    "W = unique(W)\n",
    "\n",
    "P = c() # save the purity value in P\n",
    "for(i in W$newcov){\n",
    "    w = i\n",
    "    m0 = beta0 + gamma0 * w; m0 = m0[2:3]\n",
    "    m1 = beta1 + gamma1 * w; m1 = m1[2:3]\n",
    "    D0 = as.matrix(VarCorr(fit_d0)$subj)[2:3, 2:3]\n",
    "    D1 = as.matrix(VarCorr(fit_d1)$subj)[2:3, 2:3]\n",
    "    \n",
    "    mu0 =  matrix(m0, nrow=2)\n",
    "    sigma0 = D0\n",
    "    mu1 = matrix(m1, nrow=2)\n",
    "    sigma1 = D1\n",
    "    \n",
    "    P = c(P,adaptIntegrate(PDF, \n",
    "                           lowerLimit= c(-1,-1),  \n",
    "                           upperLimit=c(1,1))$integral)\n",
    "  }\n",
    "mean(P) \n",
    "sum(P)"
   ]
  },
  {
   "cell_type": "code",
   "execution_count": null,
   "metadata": {},
   "outputs": [],
   "source": []
  },
  {
   "cell_type": "code",
   "execution_count": 24,
   "metadata": {},
   "outputs": [
    {
     "data": {
      "text/html": [
       "<table>\n",
       "<thead><tr><th scope=col>subj</th><th scope=col>trt</th><th scope=col>y</th><th scope=col>age</th><th scope=col>BaselineCGI</th><th scope=col>t1</th><th scope=col>responder</th><th scope=col>newcov1</th><th scope=col>newcov2</th><th scope=col>newcov</th></tr></thead>\n",
       "<tbody>\n",
       "\t<tr><td>2497    </td><td>0       </td><td>25      </td><td>29      </td><td>4       </td><td>0       </td><td>0       </td><td>4.703117</td><td>8.723089</td><td>47.03117</td></tr>\n",
       "\t<tr><td>2497    </td><td>0       </td><td>18      </td><td>29      </td><td>4       </td><td>1       </td><td>0       </td><td>4.703117</td><td>8.723089</td><td>47.03117</td></tr>\n",
       "\t<tr><td>2497    </td><td>0       </td><td>11      </td><td>29      </td><td>4       </td><td>2       </td><td>0       </td><td>4.703117</td><td>8.723089</td><td>47.03117</td></tr>\n",
       "\t<tr><td>2497    </td><td>0       </td><td> 9      </td><td>29      </td><td>4       </td><td>3       </td><td>0       </td><td>4.703117</td><td>8.723089</td><td>47.03117</td></tr>\n",
       "\t<tr><td>2497    </td><td>0       </td><td>19      </td><td>29      </td><td>4       </td><td>4       </td><td>0       </td><td>4.703117</td><td>8.723089</td><td>47.03117</td></tr>\n",
       "\t<tr><td>2497    </td><td>0       </td><td>15      </td><td>29      </td><td>4       </td><td>5       </td><td>0       </td><td>4.703117</td><td>8.723089</td><td>47.03117</td></tr>\n",
       "</tbody>\n",
       "</table>\n"
      ],
      "text/latex": [
       "\\begin{tabular}{r|llllllllll}\n",
       " subj & trt & y & age & BaselineCGI & t1 & responder & newcov1 & newcov2 & newcov\\\\\n",
       "\\hline\n",
       "\t 2497     & 0        & 25       & 29       & 4        & 0        & 0        & 4.703117 & 8.723089 & 47.03117\\\\\n",
       "\t 2497     & 0        & 18       & 29       & 4        & 1        & 0        & 4.703117 & 8.723089 & 47.03117\\\\\n",
       "\t 2497     & 0        & 11       & 29       & 4        & 2        & 0        & 4.703117 & 8.723089 & 47.03117\\\\\n",
       "\t 2497     & 0        &  9       & 29       & 4        & 3        & 0        & 4.703117 & 8.723089 & 47.03117\\\\\n",
       "\t 2497     & 0        & 19       & 29       & 4        & 4        & 0        & 4.703117 & 8.723089 & 47.03117\\\\\n",
       "\t 2497     & 0        & 15       & 29       & 4        & 5        & 0        & 4.703117 & 8.723089 & 47.03117\\\\\n",
       "\\end{tabular}\n"
      ],
      "text/markdown": [
       "\n",
       "subj | trt | y | age | BaselineCGI | t1 | responder | newcov1 | newcov2 | newcov | \n",
       "|---|---|---|---|---|---|\n",
       "| 2497     | 0        | 25       | 29       | 4        | 0        | 0        | 4.703117 | 8.723089 | 47.03117 | \n",
       "| 2497     | 0        | 18       | 29       | 4        | 1        | 0        | 4.703117 | 8.723089 | 47.03117 | \n",
       "| 2497     | 0        | 11       | 29       | 4        | 2        | 0        | 4.703117 | 8.723089 | 47.03117 | \n",
       "| 2497     | 0        |  9       | 29       | 4        | 3        | 0        | 4.703117 | 8.723089 | 47.03117 | \n",
       "| 2497     | 0        | 19       | 29       | 4        | 4        | 0        | 4.703117 | 8.723089 | 47.03117 | \n",
       "| 2497     | 0        | 15       | 29       | 4        | 5        | 0        | 4.703117 | 8.723089 | 47.03117 | \n",
       "\n",
       "\n"
      ],
      "text/plain": [
       "  subj trt y  age BaselineCGI t1 responder newcov1  newcov2  newcov  \n",
       "1 2497 0   25 29  4           0  0         4.703117 8.723089 47.03117\n",
       "2 2497 0   18 29  4           1  0         4.703117 8.723089 47.03117\n",
       "3 2497 0   11 29  4           2  0         4.703117 8.723089 47.03117\n",
       "4 2497 0    9 29  4           3  0         4.703117 8.723089 47.03117\n",
       "5 2497 0   19 29  4           4  0         4.703117 8.723089 47.03117\n",
       "6 2497 0   15 29  4           5  0         4.703117 8.723089 47.03117"
      ]
     },
     "metadata": {},
     "output_type": "display_data"
    }
   ],
   "source": [
    "# create new covariates\n",
    "# read in data\n",
    "dat = read.table(\"hcaf.dat\", header=T)\n",
    "d0 = dat[dat$trt == 0,]\n",
    "d1 = dat[dat$trt == 1,]\n",
    "\n",
    "cov01 = rnorm(length(unique(d0$subj)),5,1)\n",
    "cov02 = rnorm(length(unique(d0$subj)),10,1)\n",
    "newcov0 = data.frame(subj = unique(d0$subj), newcov1 = cov01, newcov2 = cov02)\n",
    "d0 = merge(d0,newcov0, by = 'subj')\n",
    "\n",
    "# create new covariates\n",
    "cov01 = rnorm(length(unique(d1$subj)),10,1)\n",
    "cov02 = rnorm(length(unique(d1$subj)),5,1)\n",
    "newcov1 = data.frame(subj = unique(d1$subj), newcov1 = cov01, newcov2 = cov02)\n",
    "d1 = merge(d1,newcov1, by = 'subj')\n",
    "\n",
    "# new covariate, which is the combination of the two new covariates\n",
    "# let's make it a simple summation first\n",
    "d0$newcov = 10 * d0$newcov1 #+ d0$newcov2 \n",
    "d1$newcov = 10 * d1$newcov1 #+ d1$newcov2\n",
    "\n",
    "dat = rbind(d0, d1)\n",
    "d0 = dat[dat$trt == 0,]\n",
    "d1 = dat[dat$trt == 1,]\n",
    "head(dat)"
   ]
  },
  {
   "cell_type": "code",
   "execution_count": 25,
   "metadata": {},
   "outputs": [
    {
     "data": {
      "text/html": [
       "0.0269238927251193"
      ],
      "text/latex": [
       "0.0269238927251193"
      ],
      "text/markdown": [
       "0.0269238927251193"
      ],
      "text/plain": [
       "[1] 0.02692389"
      ]
     },
     "metadata": {},
     "output_type": "display_data"
    },
    {
     "data": {
      "text/html": [
       "9.63875359559269"
      ],
      "text/latex": [
       "9.63875359559269"
      ],
      "text/markdown": [
       "9.63875359559269"
      ],
      "text/plain": [
       "[1] 9.638754"
      ]
     },
     "metadata": {},
     "output_type": "display_data"
    }
   ],
   "source": [
    "# get unique w value for each subject\n",
    "W = data.frame(subj = dat$subj, newcov = dat$newcov)\n",
    "W = unique(W)\n",
    "\n",
    "P = c() # save the purity value in P\n",
    "for(i in W$newcov){\n",
    "    w = i\n",
    "    m0 = beta0 + gamma0 * w; m0 = m0[2:3]\n",
    "    m1 = beta1 + gamma1 * w; m1 = m1[2:3]\n",
    "    D0 = as.matrix(VarCorr(fit_d0)$subj)[2:3, 2:3]\n",
    "    D1 = as.matrix(VarCorr(fit_d1)$subj)[2:3, 2:3]\n",
    "    \n",
    "    mu0 =  matrix(m0, nrow=2)\n",
    "    sigma0 = D0\n",
    "    mu1 = matrix(m1, nrow=2)\n",
    "    sigma1 = D1\n",
    "    \n",
    "    P = c(P,adaptIntegrate(PDF, \n",
    "                           lowerLimit= c(-1,-1),  \n",
    "                           upperLimit=c(1,1))$integral)\n",
    "  }\n",
    "mean(P) \n",
    "sum(P)"
   ]
  },
  {
   "cell_type": "code",
   "execution_count": 26,
   "metadata": {},
   "outputs": [
    {
     "data": {
      "text/html": [
       "<table>\n",
       "<thead><tr><th scope=col>subj</th><th scope=col>trt</th><th scope=col>y</th><th scope=col>age</th><th scope=col>BaselineCGI</th><th scope=col>t1</th><th scope=col>responder</th><th scope=col>newcov1</th><th scope=col>newcov2</th><th scope=col>newcov</th></tr></thead>\n",
       "<tbody>\n",
       "\t<tr><td>2497    </td><td>0       </td><td>25      </td><td>29      </td><td>4       </td><td>0       </td><td>0       </td><td>3.34943 </td><td>8.917454</td><td>3.34943 </td></tr>\n",
       "\t<tr><td>2497    </td><td>0       </td><td>18      </td><td>29      </td><td>4       </td><td>1       </td><td>0       </td><td>3.34943 </td><td>8.917454</td><td>3.34943 </td></tr>\n",
       "\t<tr><td>2497    </td><td>0       </td><td>11      </td><td>29      </td><td>4       </td><td>2       </td><td>0       </td><td>3.34943 </td><td>8.917454</td><td>3.34943 </td></tr>\n",
       "\t<tr><td>2497    </td><td>0       </td><td> 9      </td><td>29      </td><td>4       </td><td>3       </td><td>0       </td><td>3.34943 </td><td>8.917454</td><td>3.34943 </td></tr>\n",
       "\t<tr><td>2497    </td><td>0       </td><td>19      </td><td>29      </td><td>4       </td><td>4       </td><td>0       </td><td>3.34943 </td><td>8.917454</td><td>3.34943 </td></tr>\n",
       "\t<tr><td>2497    </td><td>0       </td><td>15      </td><td>29      </td><td>4       </td><td>5       </td><td>0       </td><td>3.34943 </td><td>8.917454</td><td>3.34943 </td></tr>\n",
       "</tbody>\n",
       "</table>\n"
      ],
      "text/latex": [
       "\\begin{tabular}{r|llllllllll}\n",
       " subj & trt & y & age & BaselineCGI & t1 & responder & newcov1 & newcov2 & newcov\\\\\n",
       "\\hline\n",
       "\t 2497     & 0        & 25       & 29       & 4        & 0        & 0        & 3.34943  & 8.917454 & 3.34943 \\\\\n",
       "\t 2497     & 0        & 18       & 29       & 4        & 1        & 0        & 3.34943  & 8.917454 & 3.34943 \\\\\n",
       "\t 2497     & 0        & 11       & 29       & 4        & 2        & 0        & 3.34943  & 8.917454 & 3.34943 \\\\\n",
       "\t 2497     & 0        &  9       & 29       & 4        & 3        & 0        & 3.34943  & 8.917454 & 3.34943 \\\\\n",
       "\t 2497     & 0        & 19       & 29       & 4        & 4        & 0        & 3.34943  & 8.917454 & 3.34943 \\\\\n",
       "\t 2497     & 0        & 15       & 29       & 4        & 5        & 0        & 3.34943  & 8.917454 & 3.34943 \\\\\n",
       "\\end{tabular}\n"
      ],
      "text/markdown": [
       "\n",
       "subj | trt | y | age | BaselineCGI | t1 | responder | newcov1 | newcov2 | newcov | \n",
       "|---|---|---|---|---|---|\n",
       "| 2497     | 0        | 25       | 29       | 4        | 0        | 0        | 3.34943  | 8.917454 | 3.34943  | \n",
       "| 2497     | 0        | 18       | 29       | 4        | 1        | 0        | 3.34943  | 8.917454 | 3.34943  | \n",
       "| 2497     | 0        | 11       | 29       | 4        | 2        | 0        | 3.34943  | 8.917454 | 3.34943  | \n",
       "| 2497     | 0        |  9       | 29       | 4        | 3        | 0        | 3.34943  | 8.917454 | 3.34943  | \n",
       "| 2497     | 0        | 19       | 29       | 4        | 4        | 0        | 3.34943  | 8.917454 | 3.34943  | \n",
       "| 2497     | 0        | 15       | 29       | 4        | 5        | 0        | 3.34943  | 8.917454 | 3.34943  | \n",
       "\n",
       "\n"
      ],
      "text/plain": [
       "  subj trt y  age BaselineCGI t1 responder newcov1 newcov2  newcov \n",
       "1 2497 0   25 29  4           0  0         3.34943 8.917454 3.34943\n",
       "2 2497 0   18 29  4           1  0         3.34943 8.917454 3.34943\n",
       "3 2497 0   11 29  4           2  0         3.34943 8.917454 3.34943\n",
       "4 2497 0    9 29  4           3  0         3.34943 8.917454 3.34943\n",
       "5 2497 0   19 29  4           4  0         3.34943 8.917454 3.34943\n",
       "6 2497 0   15 29  4           5  0         3.34943 8.917454 3.34943"
      ]
     },
     "metadata": {},
     "output_type": "display_data"
    }
   ],
   "source": [
    "# create new covariates\n",
    "# read in data\n",
    "dat = read.table(\"hcaf.dat\", header=T)\n",
    "d0 = dat[dat$trt == 0,]\n",
    "d1 = dat[dat$trt == 1,]\n",
    "\n",
    "cov01 = rnorm(length(unique(d0$subj)),5,1)\n",
    "cov02 = rnorm(length(unique(d0$subj)),10,1)\n",
    "newcov0 = data.frame(subj = unique(d0$subj), newcov1 = cov01, newcov2 = cov02)\n",
    "d0 = merge(d0,newcov0, by = 'subj')\n",
    "\n",
    "# create new covariates\n",
    "cov01 = rnorm(length(unique(d1$subj)),10,1)\n",
    "cov02 = rnorm(length(unique(d1$subj)),5,1)\n",
    "newcov1 = data.frame(subj = unique(d1$subj), newcov1 = cov01, newcov2 = cov02)\n",
    "d1 = merge(d1,newcov1, by = 'subj')\n",
    "\n",
    "# new covariate, which is the combination of the two new covariates\n",
    "# let's make it a simple summation first\n",
    "d0$newcov = d0$newcov1 #+ d0$newcov2 \n",
    "d1$newcov = 10 * d1$newcov1 #+ d1$newcov2\n",
    "\n",
    "dat = rbind(d0, d1)\n",
    "d0 = dat[dat$trt == 0,]\n",
    "d1 = dat[dat$trt == 1,]\n",
    "head(dat)"
   ]
  },
  {
   "cell_type": "code",
   "execution_count": 27,
   "metadata": {},
   "outputs": [
    {
     "data": {
      "text/html": [
       "0.0153922200318381"
      ],
      "text/latex": [
       "0.0153922200318381"
      ],
      "text/markdown": [
       "0.0153922200318381"
      ],
      "text/plain": [
       "[1] 0.01539222"
      ]
     },
     "metadata": {},
     "output_type": "display_data"
    },
    {
     "data": {
      "text/html": [
       "5.51041477139805"
      ],
      "text/latex": [
       "5.51041477139805"
      ],
      "text/markdown": [
       "5.51041477139805"
      ],
      "text/plain": [
       "[1] 5.510415"
      ]
     },
     "metadata": {},
     "output_type": "display_data"
    }
   ],
   "source": [
    "# get unique w value for each subject\n",
    "W = data.frame(subj = dat$subj, newcov = dat$newcov)\n",
    "W = unique(W)\n",
    "\n",
    "P = c() # save the purity value in P\n",
    "for(i in W$newcov){\n",
    "    w = i\n",
    "    m0 = beta0 + gamma0 * w; m0 = m0[2:3]\n",
    "    m1 = beta1 + gamma1 * w; m1 = m1[2:3]\n",
    "    D0 = as.matrix(VarCorr(fit_d0)$subj)[2:3, 2:3]\n",
    "    D1 = as.matrix(VarCorr(fit_d1)$subj)[2:3, 2:3]\n",
    "    \n",
    "    mu0 =  matrix(m0, nrow=2)\n",
    "    sigma0 = D0\n",
    "    mu1 = matrix(m1, nrow=2)\n",
    "    sigma1 = D1\n",
    "    \n",
    "    P = c(P,adaptIntegrate(PDF, \n",
    "                           lowerLimit= c(-1,-1),  \n",
    "                           upperLimit=c(1,1))$integral)\n",
    "  }\n",
    "mean(P) \n",
    "sum(P)"
   ]
  },
  {
   "cell_type": "code",
   "execution_count": null,
   "metadata": {},
   "outputs": [],
   "source": []
  },
  {
   "cell_type": "code",
   "execution_count": null,
   "metadata": {},
   "outputs": [],
   "source": []
  }
 ],
 "metadata": {
  "kernelspec": {
   "display_name": "R",
   "language": "R",
   "name": "ir"
  },
  "language_info": {
   "codemirror_mode": "r",
   "file_extension": ".r",
   "mimetype": "text/x-r-source",
   "name": "R",
   "pygments_lexer": "r",
   "version": "3.5.1"
  }
 },
 "nbformat": 4,
 "nbformat_minor": 2
}
